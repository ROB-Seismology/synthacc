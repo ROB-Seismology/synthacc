{
 "cells": [
  {
   "cell_type": "code",
   "execution_count": 1,
   "metadata": {},
   "outputs": [],
   "source": [
    "from synthacc.source.moment import MomentTensor\n",
    "from synthacc.source.mechanism import FocalMechanism"
   ]
  },
  {
   "cell_type": "markdown",
   "metadata": {},
   "source": [
    "The coordinates are north, east, down."
   ]
  },
  {
   "cell_type": "code",
   "execution_count": 2,
   "metadata": {},
   "outputs": [
    {
     "name": "stdout",
     "output_type": "stream",
     "text": [
      "(1, 2, 3, 4, 5, 6)\n",
      "(3, 1, 2, 6, -4, -5)\n"
     ]
    }
   ],
   "source": [
    "mt = MomentTensor(1, 2, 3, 4, 5, 6)\n",
    "print(mt.get_six('NED'))\n",
    "print(mt.get_six('USE'))"
   ]
  },
  {
   "cell_type": "markdown",
   "metadata": {},
   "source": [
    "# Jost & Hermann (1989)\n",
    "\n",
    "For a fault striking north"
   ]
  },
  {
   "cell_type": "code",
   "execution_count": 3,
   "metadata": {},
   "outputs": [
    {
     "name": "stdout",
     "output_type": "stream",
     "text": [
      "< Moment Tensor | 0 0 0 1 0 0 >\n",
      "< Moment Tensor | 0 0 0 0 -1 0 >\n",
      "< Moment Tensor | 0 -1 1 0 0 0 >\n"
     ]
    }
   ],
   "source": [
    "## SS ( 0  0  0 +1  0  0)\n",
    "print(FocalMechanism(0, 90, 0).get_moment_tensor(1))\n",
    "\n",
    "## DS ( 0  0  0  0 -1  0)\n",
    "print(FocalMechanism(0, 90, 90).get_moment_tensor(1))\n",
    "\n",
    "## DD ( 0 -1 +1  0  0  0)\n",
    "print(FocalMechanism(0, 45, 90).get_moment_tensor(1))"
   ]
  },
  {
   "cell_type": "markdown",
   "metadata": {},
   "source": [
    "# Kikuchi & Kanamori (1991)\n",
    "\n",
    "For any fault"
   ]
  },
  {
   "cell_type": "code",
   "execution_count": 4,
   "metadata": {},
   "outputs": [
    {
     "name": "stdout",
     "output_type": "stream",
     "text": [
      "< Moment Tensor | 0 0 0 1 0 0 >\n",
      "< Moment Tensor | 0 0 0 1 0 0 >\n",
      "< Moment Tensor | 0 0 0 1 0 0 >\n",
      "< Moment Tensor | 0 0 0 1 0 0 >\n"
     ]
    }
   ],
   "source": [
    "## M1 (0 0 0 1 0 0) = SS\n",
    "print(FocalMechanism(0, 90, 0).get_moment_tensor(1))\n",
    "print(FocalMechanism(180, 90, 0).get_moment_tensor(1))\n",
    "print(FocalMechanism(90, 90, 180).get_moment_tensor(1))\n",
    "print(FocalMechanism(270, 90, 180).get_moment_tensor(1))"
   ]
  },
  {
   "cell_type": "code",
   "execution_count": 5,
   "metadata": {},
   "outputs": [
    {
     "name": "stdout",
     "output_type": "stream",
     "text": [
      "< Moment Tensor | 1 -1 0 0 0 0 >\n",
      "< Moment Tensor | 1 -1 0 0 0 0 >\n",
      "< Moment Tensor | 1 -1 0 0 0 0 >\n",
      "< Moment Tensor | 1 -1 0 0 0 0 >\n"
     ]
    }
   ],
   "source": [
    "## M2 (1 -1 0 0 0 0) = SS\n",
    "print(FocalMechanism(45, 90, 180).get_moment_tensor(1))\n",
    "print(FocalMechanism(225, 90, 180).get_moment_tensor(1))\n",
    "print(FocalMechanism(135, 90, 0).get_moment_tensor(1))\n",
    "print(FocalMechanism(315, 90, 0).get_moment_tensor(1))"
   ]
  },
  {
   "cell_type": "code",
   "execution_count": 6,
   "metadata": {},
   "outputs": [
    {
     "name": "stdout",
     "output_type": "stream",
     "text": [
      "< Moment Tensor | 0 0 0 0 1 0 >\n",
      "< Moment Tensor | 0 0 0 0 1 0 >\n"
     ]
    }
   ],
   "source": [
    "## M3 (0 0 0 0 1 0) = DS\n",
    "print(FocalMechanism(0, 90, -90).get_moment_tensor(1))\n",
    "print(FocalMechanism(180, 90, +90).get_moment_tensor(1))"
   ]
  },
  {
   "cell_type": "code",
   "execution_count": 7,
   "metadata": {},
   "outputs": [
    {
     "name": "stdout",
     "output_type": "stream",
     "text": [
      "< Moment Tensor | 0 0 0 0 0 1 >\n",
      "< Moment Tensor | 0 0 0 0 0 1 >\n"
     ]
    }
   ],
   "source": [
    "## M4 (0 0 0 0 0 1) = DS\n",
    "print(FocalMechanism(90, 90, +90).get_moment_tensor(1))\n",
    "print(FocalMechanism(270, 90, -90).get_moment_tensor(1))"
   ]
  },
  {
   "cell_type": "code",
   "execution_count": 8,
   "metadata": {},
   "outputs": [
    {
     "name": "stdout",
     "output_type": "stream",
     "text": [
      "< Moment Tensor | -1 0 1 0 0 0 >\n",
      "< Moment Tensor | -1 0 1 0 0 0 >\n"
     ]
    }
   ],
   "source": [
    "## M5 (-1 0 1 0 0 0) = DD\n",
    "print(FocalMechanism(90, 45, +90).get_moment_tensor(1))\n",
    "print(FocalMechanism(270, 45, +90).get_moment_tensor(1))"
   ]
  },
  {
   "cell_type": "code",
   "execution_count": 9,
   "metadata": {},
   "outputs": [
    {
     "name": "stdout",
     "output_type": "stream",
     "text": [
      "< Moment Tensor | 1 1 1 0 0 0 >\n"
     ]
    }
   ],
   "source": [
    "## M6 (1 1 1 0 0 0) = EP\n",
    "print(MomentTensor(1, 1, 1, 0, 0, 0))"
   ]
  }
 ],
 "metadata": {
  "kernelspec": {
   "display_name": "Python 3",
   "language": "python",
   "name": "python3"
  },
  "language_info": {
   "codemirror_mode": {
    "name": "ipython",
    "version": 3
   },
   "file_extension": ".py",
   "mimetype": "text/x-python",
   "name": "python",
   "nbconvert_exporter": "python",
   "pygments_lexer": "ipython3",
   "version": "3.6.6"
  }
 },
 "nbformat": 4,
 "nbformat_minor": 2
}
