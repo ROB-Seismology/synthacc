{
 "cells": [
  {
   "cell_type": "markdown",
   "metadata": {},
   "source": [
    "# Ground Motion Prediction Equations (GMPEs)"
   ]
  },
  {
   "cell_type": "code",
   "execution_count": 1,
   "metadata": {},
   "outputs": [],
   "source": [
    "from synthacc.gmpes import TECTONIC_REGIONS, GMPE, find_gmpes"
   ]
  },
  {
   "cell_type": "code",
   "execution_count": 2,
   "metadata": {},
   "outputs": [
    {
     "data": {
      "text/plain": [
       "140"
      ]
     },
     "execution_count": 2,
     "metadata": {},
     "output_type": "execute_result"
    }
   ],
   "source": [
    "len(find_gmpes())"
   ]
  },
  {
   "cell_type": "code",
   "execution_count": 3,
   "metadata": {},
   "outputs": [
    {
     "data": {
      "text/plain": [
       "['active shallow crust',\n",
       " 'stable shallow crust',\n",
       " 'subduction interface',\n",
       " 'subduction intraslab',\n",
       " 'upper mantle',\n",
       " 'volcanic',\n",
       " 'geothermal',\n",
       " 'induced']"
      ]
     },
     "execution_count": 3,
     "metadata": {},
     "output_type": "execute_result"
    }
   ],
   "source": [
    "TECTONIC_REGIONS"
   ]
  },
  {
   "cell_type": "code",
   "execution_count": 4,
   "metadata": {},
   "outputs": [
    {
     "data": {
      "text/plain": [
       "['AtkinsonBoore1995GSCBest',\n",
       " 'AtkinsonBoore1995GSCLowerLimit',\n",
       " 'AtkinsonBoore1995GSCUpperLimit',\n",
       " 'BindiEtAl2017Rhypo',\n",
       " 'BindiEtAl2017Rjb',\n",
       " 'Campbell2003',\n",
       " 'Campbell2003MblgAB1987NSHMP2008',\n",
       " 'DrouetBrazil2015',\n",
       " 'DrouetBrazil2015withDepth',\n",
       " 'FrankelEtAl1996MblgAB1987NSHMP2008',\n",
       " 'PezeshkEtAl2011',\n",
       " 'RietbrockEtAl2013MagDependent',\n",
       " 'RietbrockEtAl2013SelfSimilar',\n",
       " 'ShahjoueiPezeshk2016',\n",
       " 'SilvaEtAl2002MblgAB1987NSHMP2008',\n",
       " 'SomervilleEtAl2001NSHMP2008',\n",
       " 'SomervilleEtAl2009NonCratonic',\n",
       " 'SomervilleEtAl2009YilgarnCraton',\n",
       " 'TavakoliPezeshk2005',\n",
       " 'TavakoliPezeshk2005MblgAB1987NSHMP2008',\n",
       " 'ToroEtAl1997MblgNSHMP2008',\n",
       " 'ToroEtAl1997MwNSHMP2008',\n",
       " 'ToroEtAl2002']"
      ]
     },
     "execution_count": 4,
     "metadata": {},
     "output_type": "execute_result"
    }
   ],
   "source": [
    "find_gmpes(tectonic_region='stable shallow crust')"
   ]
  },
  {
   "cell_type": "code",
   "execution_count": 5,
   "metadata": {},
   "outputs": [
    {
     "data": {
      "text/plain": [
       "['AfshariStewart2016',\n",
       " 'AfshariStewart2016Japan',\n",
       " 'BommerEtAl2009RSD',\n",
       " 'ConvertitoEtAl2012Geysers',\n",
       " 'DostEtAl2004',\n",
       " 'DostEtAl2004BommerAdaptation',\n",
       " 'FukushimaTanaka1990',\n",
       " 'FukushimaTanakaSite1990',\n",
       " 'MunsonThurber1997',\n",
       " 'MunsonThurber1997Vector',\n",
       " 'SiMidorikawa1999Asc',\n",
       " 'SiMidorikawa1999SInter',\n",
       " 'SiMidorikawa1999SInterNorthEastCorrection',\n",
       " 'SiMidorikawa1999SInterSouthWestCorrection',\n",
       " 'SiMidorikawa1999SSlab',\n",
       " 'SiMidorikawa1999SSlabNorthEastCorrection',\n",
       " 'SiMidorikawa1999SSlabSouthWestCorrection',\n",
       " 'TravasarouEtAl2003']"
      ]
     },
     "execution_count": 5,
     "metadata": {},
     "output_type": "execute_result"
    }
   ],
   "source": [
    "find_gmpes(sa=False)"
   ]
  },
  {
   "cell_type": "code",
   "execution_count": 6,
   "metadata": {},
   "outputs": [
    {
     "data": {
      "text/plain": [
       "['AkkarBommer2010',\n",
       " 'AkkarEtAlRepi2014',\n",
       " 'AkkarEtAlRhyp2014',\n",
       " 'AkkarEtAlRjb2014',\n",
       " 'Atkinson2015',\n",
       " 'BindiEtAl2011',\n",
       " 'BindiEtAl2014Rhyp',\n",
       " 'BindiEtAl2014RhypEC8',\n",
       " 'BindiEtAl2014Rjb',\n",
       " 'BindiEtAl2014RjbEC8',\n",
       " 'BooreAtkinson2008',\n",
       " 'BooreEtAl2014',\n",
       " 'BooreEtAl2014HighQ',\n",
       " 'BooreEtAl2014LowQ',\n",
       " 'CauzziEtAl2014',\n",
       " 'CauzziFaccioli2008',\n",
       " 'DerrasEtAl2014',\n",
       " 'DostEtAl2004',\n",
       " 'DostEtAl2004BommerAdaptation',\n",
       " 'DouglasEtAl2013StochasticSD001Q1800K005',\n",
       " 'DouglasEtAl2013StochasticSD001Q1800K020',\n",
       " 'DouglasEtAl2013StochasticSD001Q1800K040',\n",
       " 'DouglasEtAl2013StochasticSD001Q1800K060',\n",
       " 'DouglasEtAl2013StochasticSD001Q200K005',\n",
       " 'DouglasEtAl2013StochasticSD001Q200K020',\n",
       " 'DouglasEtAl2013StochasticSD001Q200K040',\n",
       " 'DouglasEtAl2013StochasticSD001Q200K060',\n",
       " 'DouglasEtAl2013StochasticSD001Q600K005',\n",
       " 'DouglasEtAl2013StochasticSD001Q600K020',\n",
       " 'DouglasEtAl2013StochasticSD001Q600K040',\n",
       " 'DouglasEtAl2013StochasticSD001Q600K060',\n",
       " 'DouglasEtAl2013StochasticSD010Q1800K005',\n",
       " 'DouglasEtAl2013StochasticSD010Q1800K020',\n",
       " 'DouglasEtAl2013StochasticSD010Q1800K040',\n",
       " 'DouglasEtAl2013StochasticSD010Q1800K060',\n",
       " 'DouglasEtAl2013StochasticSD010Q200K005',\n",
       " 'DouglasEtAl2013StochasticSD010Q200K020',\n",
       " 'DouglasEtAl2013StochasticSD010Q200K040',\n",
       " 'DouglasEtAl2013StochasticSD010Q200K060',\n",
       " 'DouglasEtAl2013StochasticSD010Q600K005',\n",
       " 'DouglasEtAl2013StochasticSD010Q600K020',\n",
       " 'DouglasEtAl2013StochasticSD010Q600K040',\n",
       " 'DouglasEtAl2013StochasticSD010Q600K060',\n",
       " 'DouglasEtAl2013StochasticSD100Q1800K005',\n",
       " 'DouglasEtAl2013StochasticSD100Q1800K020',\n",
       " 'DouglasEtAl2013StochasticSD100Q1800K040',\n",
       " 'DouglasEtAl2013StochasticSD100Q1800K060',\n",
       " 'DouglasEtAl2013StochasticSD100Q200K005',\n",
       " 'DouglasEtAl2013StochasticSD100Q200K020',\n",
       " 'DouglasEtAl2013StochasticSD100Q200K040',\n",
       " 'DouglasEtAl2013StochasticSD100Q200K060',\n",
       " 'DouglasEtAl2013StochasticSD100Q600K005',\n",
       " 'DouglasEtAl2013StochasticSD100Q600K020',\n",
       " 'DouglasEtAl2013StochasticSD100Q600K040',\n",
       " 'DouglasEtAl2013StochasticSD100Q600K060',\n",
       " 'DrouetBrazil2015',\n",
       " 'DrouetBrazil2015withDepth',\n",
       " 'EdwardsFah2013Alpine10Bars',\n",
       " 'EdwardsFah2013Alpine120Bars',\n",
       " 'EdwardsFah2013Alpine20Bars',\n",
       " 'EdwardsFah2013Alpine30Bars',\n",
       " 'EdwardsFah2013Alpine50Bars',\n",
       " 'EdwardsFah2013Alpine60Bars',\n",
       " 'EdwardsFah2013Alpine75Bars',\n",
       " 'EdwardsFah2013Alpine90Bars',\n",
       " 'EdwardsFah2013Foreland10Bars',\n",
       " 'EdwardsFah2013Foreland120Bars',\n",
       " 'EdwardsFah2013Foreland20Bars',\n",
       " 'EdwardsFah2013Foreland30Bars',\n",
       " 'EdwardsFah2013Foreland50Bars',\n",
       " 'EdwardsFah2013Foreland60Bars',\n",
       " 'EdwardsFah2013Foreland75Bars',\n",
       " 'EdwardsFah2013Foreland90Bars',\n",
       " 'GhofraniAtkinson2014',\n",
       " 'HongGoda2007',\n",
       " 'KaleEtAl2015Iran',\n",
       " 'KaleEtAl2015Turkey',\n",
       " 'KothaEtAl2016',\n",
       " 'MegawatiPan2010',\n",
       " 'PankowPechmann2004',\n",
       " 'RietbrockEtAl2013MagDependent',\n",
       " 'RietbrockEtAl2013SelfSimilar',\n",
       " 'ShahjoueiPezeshk2016',\n",
       " 'SiMidorikawa1999Asc',\n",
       " 'SiMidorikawa1999SInter',\n",
       " 'SiMidorikawa1999SInterNorthEastCorrection',\n",
       " 'SiMidorikawa1999SInterSouthWestCorrection',\n",
       " 'SiMidorikawa1999SSlab',\n",
       " 'SiMidorikawa1999SSlabNorthEastCorrection',\n",
       " 'SiMidorikawa1999SSlabSouthWestCorrection',\n",
       " 'SomervilleEtAl2009NonCratonic',\n",
       " 'SomervilleEtAl2009YilgarnCraton']"
      ]
     },
     "execution_count": 6,
     "metadata": {},
     "output_type": "execute_result"
    }
   ],
   "source": [
    "find_gmpes(pgv=True)"
   ]
  },
  {
   "cell_type": "code",
   "execution_count": 7,
   "metadata": {},
   "outputs": [
    {
     "name": "stdout",
     "output_type": "stream",
     "text": [
      "AkkarEtAlRjb2014\n",
      "active shallow crust\n",
      "True\n",
      "[0.01  0.02  0.03  0.04  0.05  0.075 0.1   0.11  0.12  0.13  0.14  0.15\n",
      " 0.16  0.17  0.18  0.19  0.2   0.22  0.24  0.26  0.28  0.3   0.32  0.34\n",
      " 0.36  0.38  0.4   0.42  0.44  0.46  0.48  0.5   0.55  0.6   0.65  0.7\n",
      " 0.75  0.8   0.85  0.9   0.95  1.    1.1   1.2   1.3   1.4   1.5   1.6\n",
      " 1.7   1.8   1.9   2.    2.2   2.4   2.6   2.8   3.    3.2   3.4   3.6\n",
      " 3.8   4.   ]\n"
     ]
    }
   ],
   "source": [
    "gmpe = GMPE('AkkarEtAlRjb2014')\n",
    "print(gmpe.name)\n",
    "print(gmpe.tectonic_region)\n",
    "print(gmpe.has_sa())\n",
    "print(gmpe.periods)"
   ]
  },
  {
   "cell_type": "code",
   "execution_count": 8,
   "metadata": {},
   "outputs": [
    {
     "data": {
      "text/plain": [
       "{'mag', 'rake', 'rjb', 'vs30'}"
      ]
     },
     "execution_count": 8,
     "metadata": {},
     "output_type": "execute_result"
    }
   ],
   "source": [
    "gmpe.parameters"
   ]
  },
  {
   "cell_type": "code",
   "execution_count": 9,
   "metadata": {},
   "outputs": [
    {
     "data": {
      "text/plain": [
       "(0.03505065060680662, (array([0.01719621]), array([0.07144297])))"
      ]
     },
     "execution_count": 9,
     "metadata": {},
     "output_type": "execute_result"
    }
   ],
   "source": [
    "gmpe.get_pga({'mag': 6.5, 'rake': 0, 'rjb': 50000, 'vs30': 800}, unit='g')"
   ]
  },
  {
   "cell_type": "code",
   "execution_count": 10,
   "metadata": {},
   "outputs": [
    {
     "data": {
      "image/png": "[encoded data removed]",
      "text/plain": [
       "<Figure size 432x288 with 1 Axes>"
      ]
     },
     "metadata": {
      "needs_background": "light"
     },
     "output_type": "display_data"
    }
   ],
   "source": [
    "rs = gmpe.get_mean_response_spectrum({'mag': 6.5, 'rake': 0, 'rjb': 50000, 'vs30': 800}, unit='g')\n",
    "rs.plot()"
   ]
  }
 ],
 "metadata": {
  "kernelspec": {
   "display_name": "Python 3",
   "language": "python",
   "name": "python3"
  },
  "language_info": {
   "codemirror_mode": {
    "name": "ipython",
    "version": 3
   },
   "file_extension": ".py",
   "mimetype": "text/x-python",
   "name": "python",
   "nbconvert_exporter": "python",
   "pygments_lexer": "ipython3",
   "version": "3.6.6"
  }
 },
 "nbformat": 4,
 "nbformat_minor": 2
}
