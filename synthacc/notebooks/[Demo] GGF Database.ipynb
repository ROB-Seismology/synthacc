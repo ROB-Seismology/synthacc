{
 "cells": [
  {
   "cell_type": "code",
   "execution_count": 1,
   "metadata": {},
   "outputs": [],
   "source": [
    "## The workspaces ggfd folder must be empty\n",
    "\n",
    "import os\n",
    "\n",
    "import numpy as np\n",
    "\n",
    "from synthacc.greens_functions import GenericGreensFunction, GGFD"
   ]
  },
  {
   "cell_type": "code",
   "execution_count": 2,
   "metadata": {},
   "outputs": [],
   "source": [
    "gmt = 'dis'\n",
    "time_delta = 0.1\n",
    "duration = 60"
   ]
  },
  {
   "cell_type": "code",
   "execution_count": 3,
   "metadata": {},
   "outputs": [],
   "source": [
    "root_folder = %pwd\n",
    "filespec = os.path.join(root_folder, 'workspaces', 'ggfd', 'ggfdb')\n",
    "\n",
    "ggfd = GGFD(filespec, gmt=gmt, time_delta=time_delta, duration=duration)"
   ]
  },
  {
   "cell_type": "code",
   "execution_count": 4,
   "metadata": {},
   "outputs": [],
   "source": [
    "ggf1 = GenericGreensFunction(time_delta, np.random.random((10, 601)), gmt=gmt, src_depth=10000, distance=10000, rcv_depth=0)\n",
    "ggf2 = GenericGreensFunction(time_delta, np.random.random((10, 601)), gmt=gmt, src_depth=10000, distance=20000, rcv_depth=0)\n",
    "ggf3 = GenericGreensFunction(time_delta, np.random.random((10, 601)), gmt=gmt, src_depth=10000, distance=30000, rcv_depth=0)"
   ]
  },
  {
   "cell_type": "code",
   "execution_count": 5,
   "metadata": {},
   "outputs": [],
   "source": [
    "ggfd.add(ggf1)\n",
    "ggfd.add(ggf2)\n",
    "ggfd.add(ggf3)"
   ]
  },
  {
   "cell_type": "code",
   "execution_count": 6,
   "metadata": {},
   "outputs": [
    {
     "name": "stdout",
     "output_type": "stream",
     "text": [
      "3\n",
      "['10000_10000_0', '10000_20000_0', '10000_30000_0']\n",
      "dis\n",
      "0.1\n",
      "60.0\n",
      "m\n"
     ]
    }
   ],
   "source": [
    "print(len(ggfd))\n",
    "print(ggfd.keys)\n",
    "print(ggfd.gmt)\n",
    "print(ggfd.time_delta)\n",
    "print(ggfd.duration)\n",
    "print(ggfd.unit)"
   ]
  },
  {
   "cell_type": "code",
   "execution_count": 7,
   "metadata": {},
   "outputs": [
    {
     "name": "stdout",
     "output_type": "stream",
     "text": [
      "True\n",
      "<synthacc.greens_functions.GenericGreensFunction object at 0x000001745D7B15F8>\n"
     ]
    }
   ],
   "source": [
    "key = (10000, 20000, 0)\n",
    "print(key in ggfd)\n",
    "gf = ggfd.get(*key)\n",
    "print(gf)"
   ]
  },
  {
   "cell_type": "code",
   "execution_count": 8,
   "metadata": {},
   "outputs": [
    {
     "name": "stdout",
     "output_type": "stream",
     "text": [
      "3\n",
      "['10000_10000_0', '10000_20000_0', '10000_30000_0']\n",
      "dis\n",
      "0.1\n",
      "60.0\n",
      "m\n"
     ]
    }
   ],
   "source": [
    "ggfd = GGFD(filespec)\n",
    "\n",
    "print(len(ggfd))\n",
    "print(ggfd.keys)\n",
    "print(ggfd.gmt)\n",
    "print(ggfd.time_delta)\n",
    "print(ggfd.duration)\n",
    "print(ggfd.unit)"
   ]
  }
 ],
 "metadata": {
  "kernelspec": {
   "display_name": "Python 3",
   "language": "python",
   "name": "python3"
  },
  "language_info": {
   "codemirror_mode": {
    "name": "ipython",
    "version": 3
   },
   "file_extension": ".py",
   "mimetype": "text/x-python",
   "name": "python",
   "nbconvert_exporter": "python",
   "pygments_lexer": "ipython3",
   "version": "3.6.6"
  }
 },
 "nbformat": 4,
 "nbformat_minor": 2
}
