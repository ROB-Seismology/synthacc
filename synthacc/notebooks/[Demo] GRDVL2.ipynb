{
 "cells": [
  {
   "cell_type": "code",
   "execution_count": 1,
   "metadata": {},
   "outputs": [],
   "source": [
    "import os\n",
    "\n",
    "import matplotlib.pyplot as plt\n",
    "import numpy as np\n",
    "import pyproj"
   ]
  },
  {
   "cell_type": "code",
   "execution_count": 2,
   "metadata": {},
   "outputs": [],
   "source": [
    "lat, lon = 51.213437, 5.086303"
   ]
  },
  {
   "cell_type": "code",
   "execution_count": 3,
   "metadata": {},
   "outputs": [],
   "source": [
    "NX, NY, X0, Y0, CS, NV, NL = 2410, 1220, 21000, 128000, 100, -9999, 44\n",
    "\n",
    "COLOR_MAP = {\n",
    "    '0101Q_We':             '#FFF2D3',\n",
    "    '0102Q_Ma':             '#FFF2C7',\n",
    "    '0103Q_Me':             '#F9E77F',\n",
    "    '0201NE_Li_Pd_Ml_Kz':   '#8DCB41',\n",
    "    '0202NE_Kd_Kl':         '#59BC9D',\n",
    "    '0203NE_Di':            '#EF886F',\n",
    "    '0204NE_Bc_Bb':         '#BEDEC4',\n",
    "    '0301PA_Vo':            '#8DCFF4',\n",
    "    '0302PA_Eg':            '#2FB9EF',\n",
    "    '0303PA_Bm':            '#2C73B9',\n",
    "    '0304PA_Bi':            '#8BAED8',\n",
    "    '0305PA_Bo':            '#E3B2C8',\n",
    "    '0306PA_Zz_Sh':         '#E4A3C2',\n",
    "    '0307PA_Ma':            '#AD894A',\n",
    "    '0308PA_Ld':            '#F8CC61',\n",
    "    '0309PA_Br':            '#FDF76C',\n",
    "    '0310PA_Aa':            '#79C489',\n",
    "    '0311PA_Ge':            '#E2988D',\n",
    "    '0312PA_Tt':            '#D2B0CE',\n",
    "    '0313PA_Ko':            '#9085BA',\n",
    "    '0314PA_Ti':            '#FDD48F',\n",
    "    '0315PA_Hn':            '#C6710A',\n",
    "    '0316PA_Hs':            '#FFF9A8',\n",
    "    '0317PA_Op':            '#FFFCDA',\n",
    "    '0318PA_Ho':            '#F3C200',\n",
    "    '0401KR_Ma_Ku':         '#F2FA8C',\n",
    "    '0402KR_GuBe_Do2':      '#E6F47F',\n",
    "    '0403KR_NeSt_GuZe_Do1': '#D9EF74',\n",
    "    '0404KR_NeWa_Va':       '#CCE968',\n",
    "    '0405KR_Ak':            '#BFE35D',\n",
    "    '0406KR_Ms_Es_Vg_Be':   '#B3DE53',\n",
    "    '05JU_06TR_07PE':       '#34B2C9',\n",
    "    '0801CA_We':            '#BFD0C5',\n",
    "    '0802CA_Na':            '#B3BE6C',\n",
    "    '0803CA_Di':            '#99B46C',\n",
    "    '09DE':                 '#CB8C37',\n",
    "    '10SI_11OR_12CM':       '#99C08D',\n",
    "}"
   ]
  },
  {
   "cell_type": "code",
   "execution_count": 4,
   "metadata": {},
   "outputs": [],
   "source": [
    "x = np.arange(X0, X0+NX*CS, CS)\n",
    "y = np.arange(Y0, Y0+NY*CS, CS)[::-1]\n",
    "xs, ys = np.meshgrid(x, y)\n",
    "\n",
    "proj = pyproj.Proj(init='epsg:31370')\n",
    "lons, lats = proj(xs, ys, inverse=True)\n",
    "\n",
    "lons_ = lons.flatten()\n",
    "lats_ = lats.flatten()\n",
    "\n",
    "lon_ = [lon] * len(lons_)\n",
    "lat_ = [lat] * len(lats_)\n",
    "\n",
    "_G = pyproj.Geod(ellps='WGS84') \n",
    "distances = _G.inv(lon_, lat_, lons_, lats_)[-1]\n",
    "\n",
    "index = np.argmin(distances)\n",
    "index = np.unravel_index(index, lons.shape)"
   ]
  },
  {
   "cell_type": "code",
   "execution_count": 5,
   "metadata": {},
   "outputs": [
    {
     "name": "stdout",
     "output_type": "stream",
     "text": [
      "0 C:\\Users\\Bart Vleminckx\\OneDrive\\Work\\Transfer\\Notebooks\\..\\Data\\GRDVL2\\rasters_asc\\00DEM\\00DEM.asc\n",
      "1 C:\\Users\\Bart Vleminckx\\OneDrive\\Work\\Transfer\\Notebooks\\..\\Data\\GRDVL2\\rasters_asc\\01Q\\0101Q_We_b.asc\n",
      "2 C:\\Users\\Bart Vleminckx\\OneDrive\\Work\\Transfer\\Notebooks\\..\\Data\\GRDVL2\\rasters_asc\\01Q\\0102Q_Ma_b.asc\n",
      "3 C:\\Users\\Bart Vleminckx\\OneDrive\\Work\\Transfer\\Notebooks\\..\\Data\\GRDVL2\\rasters_asc\\01Q\\0103Q_Me_b.asc\n",
      "4 C:\\Users\\Bart Vleminckx\\OneDrive\\Work\\Transfer\\Notebooks\\..\\Data\\GRDVL2\\rasters_asc\\01Q\\01Q_b.asc\n",
      "5 C:\\Users\\Bart Vleminckx\\OneDrive\\Work\\Transfer\\Notebooks\\..\\Data\\GRDVL2\\rasters_asc\\01Q\\01Q_d.asc\n",
      "6 C:\\Users\\Bart Vleminckx\\OneDrive\\Work\\Transfer\\Notebooks\\..\\Data\\GRDVL2\\rasters_asc\\02NE\\0201NE_Li_Pd_Ml_Kz_b.asc\n",
      "7 C:\\Users\\Bart Vleminckx\\OneDrive\\Work\\Transfer\\Notebooks\\..\\Data\\GRDVL2\\rasters_asc\\02NE\\0202NE_Kd_Kl_b.asc\n",
      "8 C:\\Users\\Bart Vleminckx\\OneDrive\\Work\\Transfer\\Notebooks\\..\\Data\\GRDVL2\\rasters_asc\\02NE\\0203NE_Di_b.asc\n",
      "9 C:\\Users\\Bart Vleminckx\\OneDrive\\Work\\Transfer\\Notebooks\\..\\Data\\GRDVL2\\rasters_asc\\02NE\\0204NE_Bc_Bb_b.asc\n",
      "10 C:\\Users\\Bart Vleminckx\\OneDrive\\Work\\Transfer\\Notebooks\\..\\Data\\GRDVL2\\rasters_asc\\03PA\\0301PA_Vo_b.asc\n",
      "11 C:\\Users\\Bart Vleminckx\\OneDrive\\Work\\Transfer\\Notebooks\\..\\Data\\GRDVL2\\rasters_asc\\03PA\\0302PA_Eg_b.asc\n",
      "12 C:\\Users\\Bart Vleminckx\\OneDrive\\Work\\Transfer\\Notebooks\\..\\Data\\GRDVL2\\rasters_asc\\03PA\\0303PA_Bm_b.asc\n",
      "13 C:\\Users\\Bart Vleminckx\\OneDrive\\Work\\Transfer\\Notebooks\\..\\Data\\GRDVL2\\rasters_asc\\03PA\\0304PA_Bi_b.asc\n",
      "14 C:\\Users\\Bart Vleminckx\\OneDrive\\Work\\Transfer\\Notebooks\\..\\Data\\GRDVL2\\rasters_asc\\03PA\\0305PA_Bo_b.asc\n",
      "15 C:\\Users\\Bart Vleminckx\\OneDrive\\Work\\Transfer\\Notebooks\\..\\Data\\GRDVL2\\rasters_asc\\03PA\\0306PA_Zz_Sh_b.asc\n",
      "16 C:\\Users\\Bart Vleminckx\\OneDrive\\Work\\Transfer\\Notebooks\\..\\Data\\GRDVL2\\rasters_asc\\03PA\\0307PA_Ma_b.asc\n",
      "17 C:\\Users\\Bart Vleminckx\\OneDrive\\Work\\Transfer\\Notebooks\\..\\Data\\GRDVL2\\rasters_asc\\03PA\\0308PA_Ld_b.asc\n",
      "18 C:\\Users\\Bart Vleminckx\\OneDrive\\Work\\Transfer\\Notebooks\\..\\Data\\GRDVL2\\rasters_asc\\03PA\\0309PA_Br_b.asc\n",
      "19 C:\\Users\\Bart Vleminckx\\OneDrive\\Work\\Transfer\\Notebooks\\..\\Data\\GRDVL2\\rasters_asc\\03PA\\0310PA_Aa_b.asc\n",
      "20 C:\\Users\\Bart Vleminckx\\OneDrive\\Work\\Transfer\\Notebooks\\..\\Data\\GRDVL2\\rasters_asc\\03PA\\0311PA_Ge_b.asc\n",
      "21 C:\\Users\\Bart Vleminckx\\OneDrive\\Work\\Transfer\\Notebooks\\..\\Data\\GRDVL2\\rasters_asc\\03PA\\0312PA_Tt_b.asc\n",
      "22 C:\\Users\\Bart Vleminckx\\OneDrive\\Work\\Transfer\\Notebooks\\..\\Data\\GRDVL2\\rasters_asc\\03PA\\0313PA_Ko_b.asc\n",
      "23 C:\\Users\\Bart Vleminckx\\OneDrive\\Work\\Transfer\\Notebooks\\..\\Data\\GRDVL2\\rasters_asc\\03PA\\0314PA_Ti_b.asc\n",
      "24 C:\\Users\\Bart Vleminckx\\OneDrive\\Work\\Transfer\\Notebooks\\..\\Data\\GRDVL2\\rasters_asc\\03PA\\0315PA_Hn_b.asc\n",
      "25 C:\\Users\\Bart Vleminckx\\OneDrive\\Work\\Transfer\\Notebooks\\..\\Data\\GRDVL2\\rasters_asc\\03PA\\0316PA_Hs_b.asc\n",
      "26 C:\\Users\\Bart Vleminckx\\OneDrive\\Work\\Transfer\\Notebooks\\..\\Data\\GRDVL2\\rasters_asc\\03PA\\0317PA_Op_b.asc\n",
      "27 C:\\Users\\Bart Vleminckx\\OneDrive\\Work\\Transfer\\Notebooks\\..\\Data\\GRDVL2\\rasters_asc\\03PA\\0318PA_Ho_b.asc\n",
      "28 C:\\Users\\Bart Vleminckx\\OneDrive\\Work\\Transfer\\Notebooks\\..\\Data\\GRDVL2\\rasters_asc\\03PA\\03PA_b.asc\n",
      "29 C:\\Users\\Bart Vleminckx\\OneDrive\\Work\\Transfer\\Notebooks\\..\\Data\\GRDVL2\\rasters_asc\\04KR\\0401KR_Ma_Ku_b.asc\n",
      "30 C:\\Users\\Bart Vleminckx\\OneDrive\\Work\\Transfer\\Notebooks\\..\\Data\\GRDVL2\\rasters_asc\\04KR\\0402KR_GuBe_Do2_b.asc\n",
      "31 C:\\Users\\Bart Vleminckx\\OneDrive\\Work\\Transfer\\Notebooks\\..\\Data\\GRDVL2\\rasters_asc\\04KR\\0403KR_NeSt_GuZe_Do1_b.asc\n",
      "32 C:\\Users\\Bart Vleminckx\\OneDrive\\Work\\Transfer\\Notebooks\\..\\Data\\GRDVL2\\rasters_asc\\04KR\\0404KR_NeWa_Va_b.asc\n",
      "33 C:\\Users\\Bart Vleminckx\\OneDrive\\Work\\Transfer\\Notebooks\\..\\Data\\GRDVL2\\rasters_asc\\04KR\\0405KR_Ak_b.asc\n",
      "34 C:\\Users\\Bart Vleminckx\\OneDrive\\Work\\Transfer\\Notebooks\\..\\Data\\GRDVL2\\rasters_asc\\04KR\\0406KR_Ms_Es_Vg_Be_b.asc\n",
      "35 C:\\Users\\Bart Vleminckx\\OneDrive\\Work\\Transfer\\Notebooks\\..\\Data\\GRDVL2\\rasters_asc\\04KR\\04KR_b.asc\n",
      "36 C:\\Users\\Bart Vleminckx\\OneDrive\\Work\\Transfer\\Notebooks\\..\\Data\\GRDVL2\\rasters_asc\\04KR\\04KR_d.asc\n",
      "37 C:\\Users\\Bart Vleminckx\\OneDrive\\Work\\Transfer\\Notebooks\\..\\Data\\GRDVL2\\rasters_asc\\04KR\\04KR_t.asc\n",
      "38 C:\\Users\\Bart Vleminckx\\OneDrive\\Work\\Transfer\\Notebooks\\..\\Data\\GRDVL2\\rasters_asc\\05JU_06TR_07PE\\05JU_06TR_07PE_b.asc\n",
      "39 C:\\Users\\Bart Vleminckx\\OneDrive\\Work\\Transfer\\Notebooks\\..\\Data\\GRDVL2\\rasters_asc\\08CA\\0801CA_We_b.asc\n",
      "40 C:\\Users\\Bart Vleminckx\\OneDrive\\Work\\Transfer\\Notebooks\\..\\Data\\GRDVL2\\rasters_asc\\08CA\\0802CA_Na_b.asc\n",
      "41 C:\\Users\\Bart Vleminckx\\OneDrive\\Work\\Transfer\\Notebooks\\..\\Data\\GRDVL2\\rasters_asc\\08CA\\0803CA_Di_b.asc\n",
      "42 C:\\Users\\Bart Vleminckx\\OneDrive\\Work\\Transfer\\Notebooks\\..\\Data\\GRDVL2\\rasters_asc\\09DE\\09DE_b.asc\n",
      "43 C:\\Users\\Bart Vleminckx\\OneDrive\\Work\\Transfer\\Notebooks\\..\\Data\\GRDVL2\\rasters_asc\\10SI_11OR_12CM\\10SI_11OR_12CM_t.asc\n"
     ]
    }
   ],
   "source": [
    "root_folder = %pwd\n",
    "\n",
    "folder = os.path.join(root_folder, '..', 'Data', 'GRDVL2', 'rasters_asc')\n",
    "\n",
    "data = np.empty((NL, NY, NX))\n",
    "\n",
    "horizonts = []\n",
    "filespecs = []\n",
    "for sub_folder in os.listdir(folder)[:-1]:\n",
    "    for file in os.listdir(os.path.join(folder, sub_folder)):\n",
    "        if file.endswith('.asc'):\n",
    "            filespecs.append(os.path.join(folder, sub_folder, file))\n",
    "            horizonts.append(file[:-4])\n",
    "\n",
    "for i, fs in enumerate(filespecs):\n",
    "    print(i, fs)\n",
    "    data[i] = np.loadtxt(fs, skiprows=6)"
   ]
  },
  {
   "cell_type": "code",
   "execution_count": 6,
   "metadata": {},
   "outputs": [],
   "source": [
    "data = data[:,index[0],index[1]]"
   ]
  },
  {
   "cell_type": "code",
   "execution_count": 7,
   "metadata": {},
   "outputs": [],
   "source": [
    "hs, ds = [], []\n",
    "\n",
    "d0 = data[0]\n",
    "\n",
    "for i, (h, d) in enumerate(zip(horizonts, data)):\n",
    "    if h[-2:] in ('_t', '_b', 'EM') and d != -9999:\n",
    "        hs.append(h)\n",
    "        ds.append(d-d0)"
   ]
  },
  {
   "cell_type": "code",
   "execution_count": 8,
   "metadata": {},
   "outputs": [
    {
     "data": {
      "image/png": "[encoded data removed]",
      "text/plain": [
       "<Figure size 144x432 with 1 Axes>"
      ]
     },
     "metadata": {
      "needs_background": "light"
     },
     "output_type": "display_data"
    }
   ],
   "source": [
    "fig, ax = plt.subplots(figsize=(2, 6))\n",
    "\n",
    "for i, (h, d) in enumerate(zip(hs, ds)):\n",
    "    #plt.scatter(0, d)\n",
    "    if i != 0:\n",
    "        c = COLOR_MAP.get(h[:-2], None)\n",
    "        #print(h, c)\n",
    "        if c is not None:\n",
    "            ax.axhspan(ds[i-1], d, color=c, label=h)\n",
    "    if i == 24:\n",
    "        break\n",
    "\n",
    "\n",
    "\n",
    "ax.set_ylim((-750, 0))\n",
    "\n",
    "ax.set_ylabel('Depth (m)')\n",
    "\n",
    "#plt.legend()\n",
    "plt.show()"
   ]
  }
 ],
 "metadata": {
  "kernelspec": {
   "display_name": "Python 3",
   "language": "python",
   "name": "python3"
  },
  "language_info": {
   "codemirror_mode": {
    "name": "ipython",
    "version": 3
   },
   "file_extension": ".py",
   "mimetype": "text/x-python",
   "name": "python",
   "nbconvert_exporter": "python",
   "pygments_lexer": "ipython3",
   "version": "3.6.6"
  }
 },
 "nbformat": 4,
 "nbformat_minor": 2
}
