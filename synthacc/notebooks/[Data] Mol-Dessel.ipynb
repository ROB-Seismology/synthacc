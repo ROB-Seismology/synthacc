{
 "cells": [
  {
   "cell_type": "code",
   "execution_count": 1,
   "metadata": {},
   "outputs": [],
   "source": [
    "from robspy.synthacc import API"
   ]
  },
  {
   "cell_type": "code",
   "execution_count": 2,
   "metadata": {},
   "outputs": [],
   "source": [
    "api = API()"
   ]
  },
  {
   "cell_type": "markdown",
   "metadata": {},
   "source": [
    "### Stations in Mol and Dessel"
   ]
  },
  {
   "cell_type": "code",
   "execution_count": 3,
   "metadata": {},
   "outputs": [],
   "source": [
    "mol = api.get_stations(place='MOL')\n",
    "dsl = api.get_stations(place='DSL')"
   ]
  },
  {
   "cell_type": "code",
   "execution_count": 4,
   "metadata": {},
   "outputs": [
    {
     "name": "stdout",
     "output_type": "stream",
     "text": [
      "1999 MOL1 2017-04-07 None\n",
      "2000 MOL2 2017-04-07 None\n",
      "2001 MOL3 2017-04-07 None\n",
      "2002 MOL4 2017-04-07 None\n",
      "2003 MOL5 2017-04-07 None\n",
      " 181 MOLA 2004-08-18 None\n",
      " 182 MOLB 2004-08-18 None\n",
      " 545 MOLS 2008-06-03 None\n",
      "1543 MOLT 2008-06-03 None\n"
     ]
    }
   ],
   "source": [
    "for s in mol:\n",
    "    print('{:4} {} {} {}'.format(s.key, s.code, s.s_date, s.e_date))"
   ]
  },
  {
   "cell_type": "code",
   "execution_count": 5,
   "metadata": {},
   "outputs": [],
   "source": [
    "molt = api.get_station(1543)\n",
    "mols = api.get_station(545)"
   ]
  },
  {
   "cell_type": "code",
   "execution_count": 6,
   "metadata": {},
   "outputs": [
    {
     "name": "stdout",
     "output_type": "stream",
     "text": [
      " 554 DSLB 2008-11-26 2009-01-31\n",
      "1544 DSLB 2010-10-20 2012-09-18\n",
      "1834 DSLB 2009-07-31 2010-06-08\n",
      "1997 DSLB 2016-09-08 2016-11-21\n",
      "1998 DSLB 2017-04-03 2018-03-28\n",
      "2055 DSLB 2018-08-13 None\n",
      " 555 DSLS 2009-02-05 2016-02-03\n",
      "1996 DSLS 2017-01-23 2017-04-03\n",
      "2010 DSLS 2017-07-07 None\n"
     ]
    }
   ],
   "source": [
    "for s in dsl:\n",
    "    print('{:4} {} {} {}'.format(s.key, s.code, s.s_date, s.e_date))"
   ]
  },
  {
   "cell_type": "code",
   "execution_count": 7,
   "metadata": {},
   "outputs": [],
   "source": [
    "x = api.get_station(1544)"
   ]
  },
  {
   "cell_type": "code",
   "execution_count": 8,
   "metadata": {},
   "outputs": [
    {
     "data": {
      "text/plain": [
       "(< Date | 2010-10-20 >, < Date | 2012-09-18 >)"
      ]
     },
     "execution_count": 8,
     "metadata": {},
     "output_type": "execute_result"
    }
   ],
   "source": [
    "x.code\n",
    "x.s_date, x.e_date"
   ]
  },
  {
   "cell_type": "markdown",
   "metadata": {},
   "source": [
    "### Measured events in Mol"
   ]
  },
  {
   "cell_type": "code",
   "execution_count": 9,
   "metadata": {},
   "outputs": [
    {
     "name": "stdout",
     "output_type": "stream",
     "text": [
      "136\n"
     ]
    }
   ],
   "source": [
    "c = api.get_measured_events(molt)\n",
    "print(len(c))"
   ]
  }
 ],
 "metadata": {
  "kernelspec": {
   "display_name": "Python 3",
   "language": "python",
   "name": "python3"
  },
  "language_info": {
   "codemirror_mode": {
    "name": "ipython",
    "version": 3
   },
   "file_extension": ".py",
   "mimetype": "text/x-python",
   "name": "python",
   "nbconvert_exporter": "python",
   "pygments_lexer": "ipython3",
   "version": "3.6.6"
  }
 },
 "nbformat": 4,
 "nbformat_minor": 2
}
