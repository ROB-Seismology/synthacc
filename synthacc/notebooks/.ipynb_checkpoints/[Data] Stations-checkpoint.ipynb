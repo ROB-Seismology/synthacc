{
 "cells": [
  {
   "cell_type": "code",
   "execution_count": 1,
   "metadata": {},
   "outputs": [
    {
     "name": "stdout",
     "output_type": "stream",
     "text": [
      "5.0862 51.2135\n",
      "5.085 51.2131\n",
      "5.0648 51.2317\n",
      "5.0648 51.2317\n"
     ]
    }
   ],
   "source": [
    "from db.robspy.synthacc import API\n",
    "\n",
    "\n",
    "api = API()\n",
    "\n",
    "molt = api.get_station_by_code('MOLT')\n",
    "mols = api.get_station_by_code('MOLS')\n",
    "dslb = api.get_station_by_code('DSLB')\n",
    "dsls = api.get_station_by_code('DSLS')\n",
    "\n",
    "print(molt.lon, molt.lat)\n",
    "print(mols.lon, mols.lat)\n",
    "print(dslb.lon, dslb.lat)\n",
    "print(dsls.lon, dsls.lat)"
   ]
  }
 ],
 "metadata": {
  "kernelspec": {
   "display_name": "Python 3",
   "language": "python",
   "name": "python3"
  },
  "language_info": {
   "codemirror_mode": {
    "name": "ipython",
    "version": 3
   },
   "file_extension": ".py",
   "mimetype": "text/x-python",
   "name": "python",
   "nbconvert_exporter": "python",
   "pygments_lexer": "ipython3",
   "version": "3.6.6"
  }
 },
 "nbformat": 4,
 "nbformat_minor": 2
}
