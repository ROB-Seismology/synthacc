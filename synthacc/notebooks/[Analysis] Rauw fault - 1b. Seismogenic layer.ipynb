{
 "cells": [
  {
   "cell_type": "code",
   "execution_count": 1,
   "metadata": {},
   "outputs": [],
   "source": [
    "import matplotlib.pyplot as plt\n",
    "\n",
    "from synthacc.observation import Catalog\n",
    "\n",
    "from data import catalog"
   ]
  },
  {
   "cell_type": "code",
   "execution_count": 2,
   "metadata": {},
   "outputs": [],
   "source": [
    "c = catalog(region=(1, 8, 49, 52))\n",
    "c = Catalog([e for e in c if e.depth > 0])"
   ]
  },
  {
   "cell_type": "code",
   "execution_count": 3,
   "metadata": {},
   "outputs": [
    {
     "name": "stdout",
     "output_type": "stream",
     "text": [
      "1800\n"
     ]
    },
    {
     "data": {
      "image/png": "[encoded data removed]",
      "text/plain": [
       "<Figure size 432x288 with 1 Axes>"
      ]
     },
     "metadata": {
      "needs_background": "light"
     },
     "output_type": "display_data"
    }
   ],
   "source": [
    "print(len(c))\n",
    "plt.hist([e.depth for e in c], bins=25)\n",
    "plt.xlim(0, 35000)\n",
    "plt.show()"
   ]
  },
  {
   "cell_type": "code",
   "execution_count": 4,
   "metadata": {},
   "outputs": [
    {
     "name": "stdout",
     "output_type": "stream",
     "text": [
      "42\n"
     ]
    },
    {
     "data": {
      "image/png": "[encoded data removed]",
      "text/plain": [
       "<Figure size 432x288 with 1 Axes>"
      ]
     },
     "metadata": {
      "needs_background": "light"
     },
     "output_type": "display_data"
    }
   ],
   "source": [
    "c1 = c.query(min_magnitude=3)\n",
    "print(len(c1))\n",
    "plt.hist([e.depth for e in c1], bins=25)\n",
    "plt.xlim(0, 35000)\n",
    "plt.show()"
   ]
  },
  {
   "cell_type": "code",
   "execution_count": 5,
   "metadata": {},
   "outputs": [
    {
     "name": "stdout",
     "output_type": "stream",
     "text": [
      "6\n"
     ]
    },
    {
     "data": {
      "image/png": "[encoded data removed]",
      "text/plain": [
       "<Figure size 432x288 with 1 Axes>"
      ]
     },
     "metadata": {
      "needs_background": "light"
     },
     "output_type": "display_data"
    }
   ],
   "source": [
    "c2 = c.query(min_magnitude=4)\n",
    "print(len(c2))\n",
    "plt.hist([e.depth for e in c2], bins=25)\n",
    "plt.xlim(0, 35000)\n",
    "plt.show()"
   ]
  },
  {
   "cell_type": "code",
   "execution_count": 6,
   "metadata": {
    "scrolled": true
   },
   "outputs": [
    {
     "name": "stdout",
     "output_type": "stream",
     "text": [
      "987 1992-04-13 01:20:02.90 19000.0\n",
      "1306 2002-07-22 05:45:04.79 16400.0\n",
      "2591 2007-04-28 07:18:11.43 8800.0\n",
      "4062 2011-02-14 12:43:12.56 13300.0\n",
      "4580 2011-09-08 19:02:50.32 10000.0\n",
      "5329 2015-05-22 01:52:17.20 15000.0\n"
     ]
    }
   ],
   "source": [
    "for e in c2:\n",
    "    print(e.key, e.time, e.depth)"
   ]
  }
 ],
 "metadata": {
  "kernelspec": {
   "display_name": "Python 3",
   "language": "python",
   "name": "python3"
  },
  "language_info": {
   "codemirror_mode": {
    "name": "ipython",
    "version": 3
   },
   "file_extension": ".py",
   "mimetype": "text/x-python",
   "name": "python",
   "nbconvert_exporter": "python",
   "pygments_lexer": "ipython3",
   "version": "3.6.6"
  }
 },
 "nbformat": 4,
 "nbformat_minor": 2
}
